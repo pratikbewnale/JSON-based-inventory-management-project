{
  "nbformat": 4,
  "nbformat_minor": 0,
  "metadata": {
    "colab": {
      "name": "record.ipynb",
      "provenance": []
    },
    "kernelspec": {
      "name": "python3",
      "display_name": "Python 3"
    },
    "language_info": {
      "name": "python"
    }
  },
  "cells": [
    {
      "cell_type": "code",
      "metadata": {
        "id": "Xeii_tM_BpQ9"
      },
      "source": [
        "import json\n",
        "fd = open(\"items.json\",'r')\n",
        "r=fd.read()\n",
        "fd.close()\n",
        "\n",
        "items = json.loads(r)\n"
      ],
      "execution_count": 1,
      "outputs": []
    },
    {
      "cell_type": "code",
      "metadata": {
        "colab": {
          "base_uri": "https://localhost:8080/"
        },
        "id": "9WdfuEfmBxle",
        "outputId": "f773d195-c8ae-44b1-8e6d-8205955bae27"
      },
      "source": [
        "items"
      ],
      "execution_count": 2,
      "outputs": [
        {
          "output_type": "execute_result",
          "data": {
            "text/plain": [
              "{'1123450': {'name': 'five star', 'pr': 10, 'qn': 40},\n",
              " '1123451': {'name': 'dairy milk', 'pr': 5, 'qn': 5},\n",
              " '1123452': {'name': 'kitkat', 'pr': 20, 'qn': 20},\n",
              " '1123453': {'name': 'melody', 'pr': 1, 'qn': 100},\n",
              " '1123454': {'name': 'choco cake', 'pr': 15, 'qn': 50},\n",
              " '1123455': {'name': 'biscuit', 'pr': 20, 'qn': 60},\n",
              " '1123456': {'name': 'pen', 'pr': 7, 'qn': 25},\n",
              " '1123457': {'name': 'notebook', 'pr': 35, 'qn': 250},\n",
              " '1123458': {'name': 'comicbook', 'pr': 50, 'qn': 10},\n",
              " '1123459': {'name': 'refill', 'pr': 3, 'qn': 100},\n",
              " '1123460': {'name': 'lays chips', 'pr': 20, 'qn': 45},\n",
              " '1123461': {'name': 'doritos', 'pr': 30, 'qn': 65},\n",
              " '1123462': {'name': 'washing powder', 'pr': 50, 'qn': 37},\n",
              " '1123463': {'name': 'soap', 'pr': 30, 'qn': 30},\n",
              " '1123464': {'name': 'toothpaste', 'pr': 45, 'qn': 80},\n",
              " '1123465': {'name': 'toothbrush', 'pr': 25, 'qn': 55},\n",
              " '1123466': {'name': 'handwash', 'pr': 70, 'qn': 15},\n",
              " '1123467': {'name': 'harpic', 'pr': 100, 'qn': 10},\n",
              " '1123468': {'name': 'sugar pack', 'pr': 70, 'qn': 5},\n",
              " '1123469': {'name': 'cococola', 'pr': 20, 'qn': 150},\n",
              " '1123470': {'name': 'sprite', 'pr': 25, 'qn': 250},\n",
              " '1123471': {'name': 'bisleri', 'pr': 10, 'qn': 200},\n",
              " '1123472': {'name': 'amulbutter', 'pr': 12, 'qn': 90},\n",
              " '1123473': {'name': 'amul cheese', 'pr': 15, 'qn': 140},\n",
              " '1123474': {'name': 'amulmilkshake', 'pr': 20, 'qn': 80},\n",
              " '1123475': {'name': 'milkpowder', 'pr': 40, 'qn': 70},\n",
              " '1123476': {'name': 'cupcake', 'pr': 50, 'qn': 65},\n",
              " '1123477': {'name': 'waterbottle', 'pr': 50, 'qn': 30},\n",
              " '1123478': {'name': 'sanitizer', 'pr': 45, 'qn': 155},\n",
              " '1123479': {'name': 'hankerchief', 'pr': 10, 'qn': 70},\n",
              " '1123480': {'name': 'masks', 'pr': 50, 'qn': 200},\n",
              " '1123481': {'name': 'matchbox', 'pr': 5, 'qn': 110},\n",
              " '1123482': {'name': 'pen', 'pr': 7, 'qn': 80},\n",
              " '1123483': {'name': 'palm oil', 'pr': 50, 'qn': 5},\n",
              " '1123484': {'name': 'hair oil', 'pr': 25, 'qn': 40}}"
            ]
          },
          "metadata": {},
          "execution_count": 2
        }
      ]
    },
    {
      "cell_type": "code",
      "metadata": {
        "colab": {
          "base_uri": "https://localhost:8080/"
        },
        "id": "2EPJFV0QBzbl",
        "outputId": "15c433d7-32e0-41e2-d810-59cdc3326abb"
      },
      "source": [
        "ur_prod = str(input(\"enter product id :\"))\n",
        "ur_quant= int(input(\"enter number of quantity :\"))\n",
        "if (ur_quant<=items[ur_prod][\"qn\"]) :\n",
        "  print(\"product :\",items[ur_prod][\"name\"])\n",
        "  print(\"price :\",items[ur_prod][\"pr\"])\n",
        "  print(\"billing ammount :\",items[ur_prod][\"pr\"] * ur_quant)\n",
        "  items[ur_prod]['qn'] = items[ur_prod]['qn'] - ur_quant\n",
        "else :\n",
        "  print(\"entered quantities are not available\") \n"
      ],
      "execution_count": 10,
      "outputs": [
        {
          "output_type": "stream",
          "name": "stdout",
          "text": [
            "enter product id :1123484\n",
            "enter number of quantity :20\n",
            "product : hair oil\n",
            "price : 25\n",
            "billing ammount : 500\n"
          ]
        }
      ]
    },
    {
      "cell_type": "code",
      "metadata": {
        "id": "rrYJehJeDRVi"
      },
      "source": [
        "js = json.dumps(items)\n",
        "\n",
        "fd = open(\"items.json\",\"w\")\n",
        "fd.write(js)\n",
        "fd.close()"
      ],
      "execution_count": 6,
      "outputs": []
    },
    {
      "cell_type": "code",
      "metadata": {
        "id": "TY4hzZUzDqOc"
      },
      "source": [
        ""
      ],
      "execution_count": null,
      "outputs": []
    }
  ]
}