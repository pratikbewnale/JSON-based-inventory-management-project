{
  "nbformat": 4,
  "nbformat_minor": 0,
  "metadata": {
    "colab": {
      "name": "purchaseitems.ipynb",
      "provenance": []
    },
    "kernelspec": {
      "name": "python3",
      "display_name": "Python 3"
    },
    "language_info": {
      "name": "python"
    }
  },
  "cells": [
    {
      "cell_type": "code",
      "metadata": {
        "id": "XPRzfufI9pu6"
      },
      "source": [
        "import json\n",
        "fd = open(\"items.json\",\"r\")\n",
        "r = fd.read()\n",
        "fd.close()"
      ],
      "execution_count": 9,
      "outputs": []
    },
    {
      "cell_type": "code",
      "metadata": {
        "id": "1swwxmo2-Hqy"
      },
      "source": [
        "items = json.loads(r)"
      ],
      "execution_count": 15,
      "outputs": []
    },
    {
      "cell_type": "code",
      "metadata": {
        "colab": {
          "base_uri": "https://localhost:8080/"
        },
        "id": "MFfl_OILAjy1",
        "outputId": "74f90043-314b-4afd-beee-3478baeadadb"
      },
      "source": [
        "items"
      ],
      "execution_count": 16,
      "outputs": [
        {
          "output_type": "execute_result",
          "data": {
            "text/plain": [
              "{'1123450': {'name': 'five star', 'pr': 10, 'qn': 40},\n",
              " '1123451': {'name': 'dairy milk', 'pr': 5, 'qn': 5},\n",
              " '1123452': {'name': 'kitkat', 'pr': 20, 'qn': 20},\n",
              " '1123453': {'name': 'melody', 'pr': 1, 'qn': 100},\n",
              " '1123454': {'name': 'choco cake', 'pr': 15, 'qn': 50},\n",
              " '1123455': {'name': 'biscuit', 'pr': 20, 'qn': 60},\n",
              " '1123456': {'name': 'pen', 'pr': 7, 'qn': 25},\n",
              " '1123457': {'name': 'notebook', 'pr': 35, 'qn': 250},\n",
              " '1123458': {'name': 'comicbook', 'pr': 50, 'qn': 10},\n",
              " '1123459': {'name': 'refill', 'pr': 3, 'qn': 100},\n",
              " '1123460': {'name': 'lays chips', 'pr': 20, 'qn': 45},\n",
              " '1123461': {'name': 'doritos', 'pr': 30, 'qn': 65},\n",
              " '1123462': {'name': 'washing powder', 'pr': 50, 'qn': 37},\n",
              " '1123463': {'name': 'soap', 'pr': 30, 'qn': 30},\n",
              " '1123464': {'name': 'toothpaste', 'pr': 45, 'qn': 80},\n",
              " '1123465': {'name': 'toothbrush', 'pr': 25, 'qn': 55},\n",
              " '1123466': {'name': 'handwash', 'pr': 70, 'qn': 15},\n",
              " '1123467': {'name': 'harpic', 'pr': 100, 'qn': 10},\n",
              " '1123468': {'name': 'sugar pack', 'pr': 70, 'qn': 5},\n",
              " '1123469': {'name': 'cococola', 'pr': 20, 'qn': 150},\n",
              " '1123470': {'name': 'sprite', 'pr': 25, 'qn': 250},\n",
              " '1123471': {'name': 'bisleri', 'pr': 10, 'qn': 200},\n",
              " '1123472': {'name': 'amulbutter', 'pr': 12, 'qn': 90},\n",
              " '1123473': {'name': 'amul cheese', 'pr': 15, 'qn': 140},\n",
              " '1123474': {'name': 'amulmilkshake', 'pr': 20, 'qn': 80},\n",
              " '1123475': {'name': 'milkpowder', 'pr': 40, 'qn': 70},\n",
              " '1123476': {'name': 'cupcake', 'pr': 50, 'qn': 65},\n",
              " '1123477': {'name': 'waterbottle', 'pr': 50, 'qn': 30},\n",
              " '1123478': {'name': 'sanitizer', 'pr': 45, 'qn': 155},\n",
              " '1123479': {'name': 'hankerchief', 'pr': 10, 'qn': 70},\n",
              " '1123480': {'name': 'masks', 'pr': 50, 'qn': 200}}"
            ]
          },
          "metadata": {},
          "execution_count": 16
        }
      ]
    },
    {
      "cell_type": "code",
      "metadata": {
        "colab": {
          "base_uri": "https://localhost:8080/"
        },
        "id": "BzTtb2EwB1J5",
        "outputId": "8abcb9cc-b55c-4322-e7d8-c5adf2da4e3f"
      },
      "source": [
        "prodid = str(input(\"enter the product id :\"))\n",
        "name = str(input(\"enter the product name :\"))\n",
        "pr = int(input(\"enter the product price :\"))\n",
        "qn = int(input(\"enter the product quantity :\"))\n",
        "\n",
        "items[prodid] = {\"name\":name,\"pr\":pr,\"qn\":qn}\n",
        "\n",
        "js = json.dumps(items)\n",
        "fd = open(\"items.json\",\"w\")\n",
        "r = fd.write(js)\n",
        "fd.close()\n",
        "\n"
      ],
      "execution_count": 28,
      "outputs": [
        {
          "name": "stdout",
          "output_type": "stream",
          "text": [
            "enter the product id :1123484\n",
            "enter the product name :hair oil\n",
            "enter the product price :25\n",
            "enter the product quantity :40\n"
          ]
        }
      ]
    }
  ]
}